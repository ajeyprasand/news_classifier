{
 "cells": [
  {
   "cell_type": "code",
   "execution_count": null,
   "id": "e3990aa7",
   "metadata": {},
   "outputs": [],
   "source": [
    "pip install scikit-learn==1.2.2"
   ]
  },
  {
   "cell_type": "code",
   "execution_count": 2,
   "id": "db3f5bf9",
   "metadata": {},
   "outputs": [
    {
     "name": "stderr",
     "output_type": "stream",
     "text": [
      "C:\\Users\\ajeym\\anaconda3\\lib\\site-packages\\sklearn\\base.py:348: InconsistentVersionWarning: Trying to unpickle estimator LinearSVC from version 1.2.2 when using version 1.3.2. This might lead to breaking code or invalid results. Use at your own risk. For more info please refer to:\n",
      "https://scikit-learn.org/stable/model_persistence.html#security-maintainability-limitations\n",
      "  warnings.warn(\n"
     ]
    },
    {
     "name": "stdout",
     "output_type": "stream",
     "text": [
      " * Serving Flask app \"__main__\" (lazy loading)\n",
      " * Environment: production\n",
      "\u001b[31m   WARNING: This is a development server. Do not use it in a production deployment.\u001b[0m\n",
      "\u001b[2m   Use a production WSGI server instead.\u001b[0m\n",
      " * Debug mode: off\n"
     ]
    },
    {
     "name": "stderr",
     "output_type": "stream",
     "text": [
      " * Running on http://127.0.0.1:5000/ (Press CTRL+C to quit)\n",
      "127.0.0.1 - - [05/Dec/2023 21:06:05] \"GET / HTTP/1.1\" 200 -\n",
      "127.0.0.1 - - [05/Dec/2023 21:06:10] \"POST /predict HTTP/1.1\" 200 -\n",
      "127.0.0.1 - - [05/Dec/2023 21:06:20] \"POST /predict HTTP/1.1\" 200 -\n"
     ]
    }
   ],
   "source": [
    "from flask import Flask, render_template, request\n",
    "import pickle\n",
    "from sklearn.feature_extraction.text import TfidfVectorizer\n",
    "from sklearn import preprocessing \n",
    "import pandas as pd\n",
    "\n",
    "model = pickle.load(open('model.pkl', 'rb'))\n",
    "X_train=pd.read_csv('x_train.csv')\n",
    "tf = TfidfVectorizer()\n",
    "tf.fit_transform(X_train['text'])\n",
    "ll = preprocessing.LabelEncoder()\n",
    "top_categories=['POLITICS','ENTERTAINMENT','U.S. NEWS','WORLD NEWS','COMEDY','SPORTS','CRIME', 'STYLE & BEAUTY', 'WEIRD NEWS', 'MEDIA', 'WELLNESS', 'HOME & LIVING', 'BLACK VOICES', 'ENVIRONMENT', 'FOOD & DRINK']\n",
    "ll.fit(top_categories)\n",
    "\n",
    "app = Flask(__name__)\n",
    "\n",
    "@app.route('/')\n",
    "def home():\n",
    "    return render_template('home.html')\n",
    "\n",
    "@app.route('/predict', methods=['POST'])\n",
    "def predict():\n",
    "    news=request.form.get(\"news\")\n",
    "    news_tf = tf.transform([news])\n",
    "    y_pred = model.predict(news_tf)\n",
    "    y_pred_labels = ll.inverse_transform(y_pred)\n",
    "    return render_template(\"result.html\", prediction = y_pred_labels)\n",
    "\n",
    "if __name__ == \"__main__\":\n",
    "    app.run()"
   ]
  },
  {
   "cell_type": "code",
   "execution_count": null,
   "id": "8cbb0116",
   "metadata": {},
   "outputs": [],
   "source": []
  }
 ],
 "metadata": {
  "kernelspec": {
   "display_name": "Python 3 (ipykernel)",
   "language": "python",
   "name": "python3"
  },
  "language_info": {
   "codemirror_mode": {
    "name": "ipython",
    "version": 3
   },
   "file_extension": ".py",
   "mimetype": "text/x-python",
   "name": "python",
   "nbconvert_exporter": "python",
   "pygments_lexer": "ipython3",
   "version": "3.9.13"
  }
 },
 "nbformat": 4,
 "nbformat_minor": 5
}
