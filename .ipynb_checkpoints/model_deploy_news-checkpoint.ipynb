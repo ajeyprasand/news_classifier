{
 "cells": [
  {
   "cell_type": "code",
   "execution_count": null,
   "id": "e3990aa7",
   "metadata": {},
   "outputs": [],
   "source": [
    "pip install scikit-learn==1.2.2"
   ]
  },
  {
   "cell_type": "code",
   "execution_count": null,
   "id": "db3f5bf9",
   "metadata": {},
   "outputs": [],
   "source": [
    "from flask import Flask, render_template, request\n",
    "import pickle\n",
    "from sklearn.feature_extraction.text import TfidfVectorizer\n",
    "from sklearn import preprocessing \n",
    "import pandas as pd\n",
    "\n",
    "model = pickle.load(open('model.pkl', 'rb'))\n",
    "X_train=pd.read_csv('x_train.csv')\n",
    "tf = TfidfVectorizer()\n",
    "tf.fit_transform(X_train['text'])\n",
    "ll = preprocessing.LabelEncoder()\n",
    "top_categories=['POLITICS','ENTERTAINMENT','U.S. NEWS','WORLD NEWS','COMEDY','SPORTS','CRIME', 'STYLE & BEAUTY', 'WEIRD NEWS', 'MEDIA', 'WELLNESS', 'HOME & LIVING', 'BLACK VOICES', 'ENVIRONMENT', 'FOOD & DRINK']\n",
    "ll.fit(top_categories)\n",
    "\n",
    "app = Flask(__name__)\n",
    "\n",
    "@app.route('/')\n",
    "def home():\n",
    "    return render_template('home.html')\n",
    "\n",
    "@app.route('/predict', methods=['POST'])\n",
    "def predict():\n",
    "    news=request.form.get(\"news\")\n",
    "    news_tf = tf.transform([news])\n",
    "    y_pred = model.predict(news_tf)\n",
    "    y_pred_labels = ll.inverse_transform(y_pred)\n",
    "    return render_template(\"result.html\", prediction = y_pred_labels)\n",
    "\n",
    "if __name__ == \"__main__\":\n",
    "    app.run(debug=True)"
   ]
  },
  {
   "cell_type": "code",
   "execution_count": null,
   "id": "54e3090c",
   "metadata": {},
   "outputs": [],
   "source": []
  }
 ],
 "metadata": {
  "kernelspec": {
   "display_name": "Python 3 (ipykernel)",
   "language": "python",
   "name": "python3"
  },
  "language_info": {
   "codemirror_mode": {
    "name": "ipython",
    "version": 3
   },
   "file_extension": ".py",
   "mimetype": "text/x-python",
   "name": "python",
   "nbconvert_exporter": "python",
   "pygments_lexer": "ipython3",
   "version": "3.9.13"
  }
 },
 "nbformat": 4,
 "nbformat_minor": 5
}
